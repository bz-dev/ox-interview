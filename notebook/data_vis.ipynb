{
 "cells": [
  {
   "cell_type": "markdown",
   "source": [
    "### Introduction\n",
    "\n",
    "The following datasets are used in this demonstration:\n",
    "- 2011 Census data - polulation and household estimates, available [here](https://www.ons.gov.uk/census/2011census/2011censusdata/2011censusdatacatalogue/populationandhouseholdestimates).\n",
    "- ONS - House price to residence-based earnings ratio, available [here](https://www.ons.gov.uk/peoplepopulationandcommunity/housing/datasets/ratioofhousepricetoresidencebasedearningslowerquartileandmedian)\n",
    "\n",
    "### Table of contents\n",
    "\n",
    "1. [Population and household estimates (univariate)](#section1)\n",
    "\n",
    "    1.1 [Gender ratio](#section1_1)\n",
    "\n",
    "    1.2 [Gender by region](#section1_2)\n",
    "\n",
    "    1.3 [Population by outward postcode using choropleth map](#section1_3)\n",
    "\n",
    "    1.4 [Population by postcode parent area using choropleth map](#section1_4)\n",
    "\n",
    "    1.5 [Male/Female ratio by postcode parent area using choropleth map](#section1_5)\n",
    "\n",
    "2. [House prices and earnings (multivariate)](#section2)"
   ],
   "metadata": {
    "collapsed": false
   }
  },
  {
   "cell_type": "markdown",
   "source": [
    "### Preparation\n",
    "Please run this code cell to install required packages. If this does not work, please install these packages manually in your virtual environment."
   ],
   "metadata": {
    "collapsed": false
   }
  },
  {
   "cell_type": "code",
   "execution_count": null,
   "outputs": [],
   "source": [
    "# Install packages using jupyter notebook's built-in %pip function\n",
    "%pip install pandas plotly geojson shapely openpyxl scipy nltk"
   ],
   "metadata": {
    "collapsed": false,
    "pycharm": {
     "name": "#%%\n"
    }
   }
  },
  {
   "cell_type": "markdown",
   "source": [
    "Import packages to be used and replace default plotting backend."
   ],
   "metadata": {
    "collapsed": false
   }
  },
  {
   "cell_type": "code",
   "execution_count": null,
   "outputs": [],
   "source": [
    "# Import required packages\n",
    "import pandas as pd\n",
    "import numpy as np\n",
    "import json\n",
    "from pathlib import Path\n",
    "import plotly.express as px\n",
    "import plotly.graph_objects as go\n",
    "from plotly.subplots import make_subplots\n",
    "import re\n",
    "import shapely.geometry\n",
    "from shapely.ops import unary_union\n",
    "import geojson\n",
    "import nltk\n",
    "\n",
    "# Set default pandas plotting backend to Plotly\n",
    "pd.options.plotting.backend = \"plotly\""
   ],
   "metadata": {
    "collapsed": false,
    "pycharm": {
     "name": "#%%\n"
    }
   }
  },
  {
   "cell_type": "markdown",
   "source": [
    "<a id='section1'></a>\n",
    "### 1. Population and household estimates"
   ],
   "metadata": {
    "collapsed": false
   }
  },
  {
   "cell_type": "code",
   "execution_count": null,
   "outputs": [],
   "source": [
    "# Load data\n",
    "df1 = pd.read_csv(\"../data/ons/population_household.csv\")\n",
    "\n",
    "# Split postcode into outward and inward, e.g. LE3 9QP => LE3 and 9QP\n",
    "df1[\"postcode_out\"] = df1[\"Postcode\"].apply(lambda x: x[0:4].strip())\n",
    "df1[\"postcode_in\"] = df1[\"Postcode\"].apply(lambda x: x[4:].strip())\n",
    "\n",
    "# Keep only non-numeric part in outward as the parent region\n",
    "df1[\"postcode_region\"] = df1[\"postcode_out\"].apply(lambda x: re.split(\"\\d+\", x)[0])\n",
    "\n",
    "# Remove column [Postcode] to save memory\n",
    "df1 = df1.drop([\"Postcode\"], axis=1)"
   ],
   "metadata": {
    "collapsed": false,
    "pycharm": {
     "name": "#%%\n"
    }
   }
  },
  {
   "cell_type": "markdown",
   "source": [
    "<a id='section1_1'></a>\n",
    "#### 1.1 Gender ratio"
   ],
   "metadata": {
    "collapsed": false
   }
  },
  {
   "cell_type": "code",
   "execution_count": null,
   "outputs": [],
   "source": [
    "# Count total number of males and females\n",
    "df_gender = pd.DataFrame({\"Gender\": [\"Male\", \"Female\"], \"Count\": [df1[\"Males\"].sum(), df1[\"Females\"].sum()]})\n",
    "\n",
    "# Generate pie chart\n",
    "gender_pie = px.pie(df_gender, values=\"Count\", names=\"Gender\", title=\"National gender ratio (England and Wales)\")\n",
    "gender_pie.show()\n",
    "\n",
    "# Remove variables to save memory\n",
    "del df_gender, gender_pie"
   ],
   "metadata": {
    "collapsed": false,
    "pycharm": {
     "name": "#%%\n"
    }
   }
  },
  {
   "cell_type": "markdown",
   "source": [
    "<a id='section1_2'></a>\n",
    "#### 1.2 Population and gender ratio by region"
   ],
   "metadata": {
    "collapsed": false
   }
  },
  {
   "cell_type": "code",
   "execution_count": null,
   "outputs": [],
   "source": [
    "# Sum up all numbers within same postcode region, descending order by column [Total]\n",
    "df_temp = df1.groupby([\"postcode_region\"]).sum().sort_values(by=['Total'], ascending=False).reset_index()\n",
    "\n",
    "# Generate plots side by side\n",
    "fig_temp = make_subplots(rows=1, cols=2, specs=[[{}, {}]], shared_xaxes=True,\n",
    "                    shared_yaxes=False, vertical_spacing=0.001)\n",
    "\n",
    "# Add plot 1: bar chart for top 10 population regions\n",
    "fig_temp.append_trace(go.Bar(\n",
    "    x=df_temp.head(10)[\"Total\"],\n",
    "    y=df_temp.head(10)[\"postcode_region\"],\n",
    "    marker=dict(\n",
    "        color='rgba(50, 171, 96, 0.6)',\n",
    "        line=dict(\n",
    "            color='rgba(50, 171, 96, 1.0)',\n",
    "            width=1),\n",
    "    ),\n",
    "    name='Population',\n",
    "    orientation='h',\n",
    "), 1, 1)\n",
    "\n",
    "# Add plot 2: scatter chart for gender ratio in top 10 population regions\n",
    "fig_temp.append_trace(go.Scatter(\n",
    "    x=df_temp.head(10)[\"Males\"]/df_temp.head(10)[\"Females\"], y=df_temp.head(10)[\"postcode_region\"],\n",
    "    mode='lines+markers',\n",
    "    line_color='rgb(128, 0, 128)',\n",
    "    name='M/F ratio',\n",
    "), 1, 2)\n",
    "\n",
    "# Update layout changes on plot title, axes, color and legends\n",
    "fig_temp.update_layout(\n",
    "    title='Male/Female ratio in top 10 population regions',\n",
    "    yaxis=dict(\n",
    "        showgrid=False,\n",
    "        showline=False,\n",
    "        showticklabels=True,\n",
    "        domain=[0, 0.85],\n",
    "    ),\n",
    "    yaxis2=dict(\n",
    "        showgrid=False,\n",
    "        showline=True,\n",
    "        showticklabels=False,\n",
    "        linecolor='rgba(102, 102, 102, 0.8)',\n",
    "        linewidth=2,\n",
    "        domain=[0, 0.85],\n",
    "    ),\n",
    "    xaxis=dict(\n",
    "        zeroline=False,\n",
    "        showline=False,\n",
    "        showticklabels=True,\n",
    "        showgrid=True,\n",
    "        domain=[0, 0.42],\n",
    "    ),\n",
    "    xaxis2=dict(\n",
    "        zeroline=False,\n",
    "        showline=False,\n",
    "        showticklabels=True,\n",
    "        showgrid=True,\n",
    "        domain=[0.47, 1],\n",
    "        side='top',\n",
    "        dtick=25000,\n",
    "    ),\n",
    "    legend=dict(x=0.029, y=1.038, font_size=10),\n",
    "    margin=dict(l=100, r=20, t=70, b=70),\n",
    "    paper_bgcolor='rgb(248, 248, 255)',\n",
    "    plot_bgcolor='rgb(248, 248, 255)',\n",
    ")\n",
    "\n",
    "# Add annotations to the plot\n",
    "annotations = []\n",
    "\n",
    "# Adding labels to charts\n",
    "for a_mf, a_pop, x_pcr in zip(np.round(df_temp.head(10)[\"Males\"]/df_temp.head(10)[\"Females\"], decimals=2), df_temp.head(10)[\"Total\"], df_temp.head(10)[\"postcode_region\"]):\n",
    "    # Add label to M/F ratio scatter plot\n",
    "    annotations.append(dict(xref='x2', yref='y2',\n",
    "                            y=x_pcr, x=a_mf,\n",
    "                            text=a_mf,\n",
    "                            xshift=50,\n",
    "                            showarrow=False))\n",
    "    # Add label to population bar chart\n",
    "    annotations.append(dict(xref='x1', yref='y1',\n",
    "                            y=x_pcr, x=a_pop,\n",
    "                            text=f\"{np.round(a_pop/1000000, 3)}M\",\n",
    "                            xshift=25,\n",
    "                            showarrow=False))\n",
    "\n",
    "fig_temp.update_layout(annotations=annotations)\n",
    "fig_temp.show()"
   ],
   "metadata": {
    "collapsed": false,
    "pycharm": {
     "name": "#%%\n"
    }
   }
  },
  {
   "cell_type": "code",
   "execution_count": null,
   "outputs": [],
   "source": [
    "# Remove variables to save memory\n",
    "del df_temp, annotations, fig_temp"
   ],
   "metadata": {
    "collapsed": false,
    "pycharm": {
     "name": "#%%\n"
    }
   }
  },
  {
   "cell_type": "markdown",
   "source": [
    "<a id='section1_3'></a>\n",
    "#### 1.3 Population by outward postcode using choropleth map\n",
    "Concat individual postcode geojson mapping into single variable `geojson_uk`."
   ],
   "metadata": {
    "collapsed": false
   }
  },
  {
   "cell_type": "code",
   "execution_count": null,
   "outputs": [],
   "source": [
    "# Create parent geojson collection object\n",
    "geojson_uk_granulated = dict(type=\"FeatureCollection\", features=list())\n",
    "# Load all geojson files\n",
    "path_geojson = Path(\"../data/geojson\")\n",
    "for f_geojson in list(path_geojson.glob(\"*.geojson\")):\n",
    "    with open(f_geojson) as f:\n",
    "        geojson_data = json.load(f)\n",
    "        for feature in geojson_data[\"features\"]:\n",
    "            # Add feature id using properties.name, which is the outward postcode\n",
    "            feature[\"id\"] = feature[\"properties\"][\"name\"]\n",
    "            # Add feature to parent geojson collection\n",
    "            geojson_uk_granulated[\"features\"].append(feature)"
   ],
   "metadata": {
    "collapsed": false,
    "pycharm": {
     "name": "#%%\n"
    }
   }
  },
  {
   "cell_type": "markdown",
   "source": [
    "Plot population with postcode area. Please note that as the opensource geographical data I used in this demonstration comes from Wikipedia, it does not cover all England regions. This leads to white areas on the map."
   ],
   "metadata": {
    "collapsed": false
   }
  },
  {
   "cell_type": "code",
   "execution_count": null,
   "outputs": [],
   "source": [
    "# Sum up all numbers within same postcode outward area\n",
    "df_temp = df1.groupby([\"postcode_out\"]).sum().reset_index()\n",
    "\n",
    "# Get max population number among areas\n",
    "p_max = df_temp[\"Total\"].max()\n",
    "\n",
    "# Plot figure\n",
    "fig = px.choropleth_mapbox(df1.groupby([\"postcode_out\"]).sum().reset_index(), geojson=geojson_uk_granulated,\n",
    "                           locations='postcode_out', color='Total',\n",
    "                           color_continuous_scale=\"jet\",\n",
    "                           range_color=(0, p_max),\n",
    "                           mapbox_style=\"carto-positron\",\n",
    "                           zoom=4.5, center={\"lat\": 52.5, \"lon\": -1.6},\n",
    "                           opacity=0.5\n",
    "                           )\n",
    "fig.update_layout(margin={\"r\": 0, \"t\": 0, \"l\": 0, \"b\": 0})\n",
    "fig.show()\n",
    "\n",
    "# Remove variables to save memory\n",
    "del df_temp, p_max, fig"
   ],
   "metadata": {
    "collapsed": false,
    "pycharm": {
     "name": "#%%\n"
    }
   }
  },
  {
   "cell_type": "markdown",
   "source": [
    "<a id='section1_4'></a>\n",
    "#### 1.4 Population by postcode parent area using choropleth map\n",
    "In the above plot, regions are probably too granulated, so you would not be able to see an obvious trend. Let's merge them into parent regions."
   ],
   "metadata": {
    "collapsed": false
   }
  },
  {
   "cell_type": "code",
   "execution_count": null,
   "outputs": [],
   "source": [
    "# Create parent geojson collection object\n",
    "geojson_uk_regional = dict(type=\"FeatureCollection\", features=list())\n",
    "\n",
    "# Load all geojson files\n",
    "path_geojson = Path(\"../data/geojson\")\n",
    "for f_geojson in list(path_geojson.glob(\"*.geojson\")):\n",
    "    with open(f_geojson) as f:\n",
    "        geojson_data = json.load(f)\n",
    "        # Merge granulated geometry areas into parent region\n",
    "        merged = unary_union(\n",
    "            list(\n",
    "                map(\n",
    "                    (lambda x: shapely.geometry.asShape(x[\"geometry\"])),\n",
    "                    geojson_data[\"features\"])\n",
    "            )\n",
    "        )\n",
    "        # Create new geojson feature from merged geometry\n",
    "        geojson_merged = geojson.Feature(geometry=merged,\n",
    "                                         properties={\"name\": f_geojson.stem},\n",
    "                                         id=f_geojson.stem)\n",
    "        # Add feature to parent geojson collection\n",
    "        geojson_uk_regional[\"features\"].append(geojson_merged)"
   ],
   "metadata": {
    "collapsed": false,
    "pycharm": {
     "name": "#%%\n"
    }
   }
  },
  {
   "cell_type": "markdown",
   "source": [
    "Now we have merged"
   ],
   "metadata": {
    "collapsed": false
   }
  },
  {
   "cell_type": "code",
   "execution_count": null,
   "outputs": [],
   "source": [
    "# Sum up all numbers within same postcode region\n",
    "df_temp = df1.groupby([\"postcode_region\"]).sum().reset_index()\n",
    "\n",
    "# Get max population number among regions\n",
    "p_max = df_temp[\"Total\"].max()\n",
    "\n",
    "# Plot figure\n",
    "fig = px.choropleth_mapbox(df_temp,\n",
    "                           geojson=geojson_uk_regional,\n",
    "                           locations='postcode_region',\n",
    "                           color='Total',\n",
    "                           color_continuous_scale=\"jet\",\n",
    "                           range_color=(0, p_max),\n",
    "                           mapbox_style=\"carto-positron\",\n",
    "                           zoom=4.5, center={\"lat\": 52.5, \"lon\": -1.6},\n",
    "                           opacity=0.5\n",
    "                           )\n",
    "fig.update_layout(margin={\"r\": 0, \"t\": 0, \"l\": 0, \"b\": 0})\n",
    "fig.show()\n",
    "\n",
    "# Remove variables to save memory\n",
    "del df_temp, p_max, fig"
   ],
   "metadata": {
    "collapsed": false,
    "pycharm": {
     "name": "#%%\n"
    }
   }
  },
  {
   "cell_type": "code",
   "execution_count": null,
   "outputs": [],
   "source": [
    "# Remove dataframe used for section 1\n",
    "del df1"
   ],
   "metadata": {
    "collapsed": false,
    "pycharm": {
     "name": "#%%\n"
    }
   }
  },
  {
   "cell_type": "markdown",
   "source": [
    "<a id='section2'></a>\n",
    "### 2. House prices and earnings"
   ],
   "metadata": {
    "collapsed": false
   }
  },
  {
   "cell_type": "markdown",
   "source": [
    "Define a reusable function to read from the source file and process into a DataFrame in required format."
   ],
   "metadata": {
    "collapsed": false
   }
  },
  {
   "cell_type": "code",
   "execution_count": null,
   "outputs": [],
   "source": [
    "def read_df2(source, sheet, skip_top, column_name):\n",
    "    \"\"\"\n",
    "    :param source: str or path object, where the source excel file located\n",
    "    :param sheet: str, name of the sheet in excel file to be read\n",
    "    :param skip_top: int, how many rows at the top of the sheet to be skipped\n",
    "    :param column_name: str, new column name to be given to the variable\n",
    "    :return: DataFrame\n",
    "    \"\"\"\n",
    "\n",
    "    def transpose_df2(r, c_name):\n",
    "        \"\"\"\n",
    "        :param r: Series, a row from the DataFrame\n",
    "        :param c_name: str, new name to be given to transposed column\n",
    "        :return: DataFrame\n",
    "        \"\"\"\n",
    "        #%% row -> column -> new DataFrame\n",
    "        new_df = r[year_columns].T.to_frame().reset_index(drop=True)\n",
    "        #%% Rename the column\n",
    "        new_df.columns = [c_name]\n",
    "        #%% Add column [Region] and populate the whole column with value from cell [Region] in the row\n",
    "        new_df[\"Region\"] = r[\"Region\"].strip()\n",
    "        #%% Add column [Year] and populate the column from 2002 to 2020\n",
    "        new_df[\"Year\"] = range(2002, 2021)\n",
    "        return new_df\n",
    "\n",
    "    #%% Read target sheet from source file into DataFrame -> drop column [Code] -> drop row if any cell in column [Name] is empty\n",
    "    temp = pd.read_excel(source, sheet_name=sheet, skiprows=skip_top).drop(columns=[\"Code\"]).dropna(subset=[\"Name\"])\n",
    "    # As the source file contains empty columns, drop them\n",
    "    empty_cols = [col for col in temp.columns if temp[col].isnull().all()]\n",
    "    temp.drop(empty_cols, axis=1, inplace=True)\n",
    "    # Columns names are inconsistent in different sheets, replace them with standard year based column names\n",
    "    year_columns = [str(x) for x in range(2002, 2021)]\n",
    "    temp.columns = [\"Region\"] + year_columns\n",
    "    temp.loc[0][year_columns].T.reset_index(drop=True)\n",
    "    new_temp = pd.DataFrame(columns=[\"Region\", \"Year\", column_name])\n",
    "    # Transpose and concat each row into the final DataFrame\n",
    "    for _, row in temp.iterrows():\n",
    "        new_temp = pd.concat([new_temp, transpose_df2(row, column_name)])\n",
    "    # Convert numeric column data type to integer\n",
    "    new_temp = new_temp.astype({column_name: 'int32'})\n",
    "    return new_temp"
   ],
   "metadata": {
    "collapsed": false,
    "pycharm": {
     "name": "#%%\n"
    }
   }
  },
  {
   "cell_type": "markdown",
   "source": [
    "Read dataset into DataFrame"
   ],
   "metadata": {
    "collapsed": false
   }
  },
  {
   "cell_type": "code",
   "execution_count": null,
   "outputs": [],
   "source": [
    "# Read sheet [1a] for the median house price by country and region, England and Wales, 2002 - 2020\n",
    "df2_1a = read_df2(\"../data/ons/house_price_earning.xlsx\", \"1a\", 6, \"Median house price\")\n",
    "# Read sheet [1b] for the median gross annual earnings by country and region, England and Wales, 2002 - 2020\n",
    "df2_1b = read_df2(\"../data/ons/house_price_earning.xlsx\", \"1b\", 6, \"Median earn\")\n",
    "# Read sheet [2a] for the lower quartile house price by country and region, England and Wales, 2002 - 2020\n",
    "df2_2a = read_df2(\"../data/ons/house_price_earning.xlsx\", \"2a\", 6, \"Lower house price\")\n",
    "# Read sheet [1b] for the lower quartile gross annual earnings by country and region, England and Wales, 2002 - 2020\n",
    "df2_2b = read_df2(\"../data/ons/house_price_earning.xlsx\", \"2b\", 6, \"Lower earn\")\n",
    "# Merge the four DataFrame above into new DataFrame\n",
    "df2_final = pd.merge(df2_1a, df2_1b, on=[\"Region\", \"Year\"])\n",
    "df2_final = pd.merge(df2_final, df2_2a, on=[\"Region\", \"Year\"])\n",
    "df2_final = pd.merge(df2_final, df2_2b, on=[\"Region\", \"Year\"])\n",
    "# Show top 5 rows of processed DataFrame\n",
    "df2_final.head(5)\n",
    "# Delete variables to save memory\n",
    "del df2_1a, df2_1b, df2_2a, df2_2b"
   ],
   "metadata": {
    "collapsed": false,
    "pycharm": {
     "name": "#%%\n"
    }
   }
  },
  {
   "cell_type": "markdown",
   "source": [
    "<a id='section2_1'></a>\n",
    "#### 2.1 Correlation between median house price and median household earning\n",
    "\n",
    "- Scatter plot and trendlines show the correlations between median house price and median earn.\n",
    "- Top box plot shows the distribution of median house price.\n",
    "- Right rug box shows the distribution of median earn."
   ],
   "metadata": {
    "collapsed": false
   }
  },
  {
   "cell_type": "code",
   "execution_count": null,
   "outputs": [],
   "source": [
    "df2_fig1 = px.scatter(df2_final[df2_final.Region.isin([\"England\", \"Wales\", \"London\"])], x=\"Median house price\", y=\"Median earn\", color=\"Region\",\n",
    "                 marginal_x=\"box\", marginal_y=\"rug\", trendline=\"ols\")\n",
    "df2_fig1.show()"
   ],
   "metadata": {
    "collapsed": false,
    "pycharm": {
     "name": "#%%\n"
    }
   }
  },
  {
   "cell_type": "code",
   "execution_count": null,
   "outputs": [],
   "source": [
    "df2_temp = pd.DataFrame(columns=[\"Region\", \"Year\", \"Variable\", \"Value\"])\n",
    "for _, row in df2_final.iterrows():\n",
    "    df2_temp = df2_temp.append([{\"Region\": row[\"Region\"], \"Year\": row[\"Year\"], \"Variable\": \"Median house price\", \"Value\": row[\"Median house price\"]},\n",
    "                              {\"Region\": row[\"Region\"], \"Year\": row[\"Year\"], \"Variable\": \"Median earn\", \"Value\": row[\"Median earn\"]}, {\"Region\": row[\"Region\"], \"Year\": row[\"Year\"], \"Variable\": \"Lower house price\", \"Value\": row[\"Lower house price\"]}, {\"Region\": row[\"Region\"], \"Year\": row[\"Year\"], \"Variable\": \"Lower earn\", \"Value\": row[\"Lower earn\"]}], ignore_index=True)\n",
    "\n",
    "df2_fig2 = px.bar(df2_temp[df2_temp[\"Variable\"].isin([\"Median house price\", \"Lower house price\"])], x=\"Region\", y=\"Value\", text=\"Value\", color=\"Variable\", barmode=\"group\", animation_frame=\"Year\", animation_group=\"Region\", range_y=[0,500000])\n",
    "df2_fig2.update_yaxes(title_text=\"Price\", secondary_y=False)\n",
    "df2_fig2.update_yaxes(title_text=\"Earn\", secondary_y=True)\n",
    "df2_fig2.show()\n",
    "\n",
    "del df2_final, df2_temp, df2_fig1, df2_fig2"
   ],
   "metadata": {
    "collapsed": false,
    "pycharm": {
     "name": "#%%\n"
    }
   }
  },
  {
   "cell_type": "markdown",
   "source": [
    "<a id='section3'></a>\n",
    "### 3. Text based analysis and visualisation"
   ],
   "metadata": {
    "collapsed": false
   }
  }
 ],
 "metadata": {
  "kernelspec": {
   "display_name": "Python 3",
   "language": "python",
   "name": "python3"
  },
  "language_info": {
   "codemirror_mode": {
    "name": "ipython",
    "version": 2
   },
   "file_extension": ".py",
   "mimetype": "text/x-python",
   "name": "python",
   "nbconvert_exporter": "python",
   "pygments_lexer": "ipython2",
   "version": "2.7.6"
  }
 },
 "nbformat": 4,
 "nbformat_minor": 0
}