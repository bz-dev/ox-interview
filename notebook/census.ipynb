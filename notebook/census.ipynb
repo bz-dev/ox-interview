{
 "cells": [
  {
   "cell_type": "markdown",
   "metadata": {
    "collapsed": true,
    "pycharm": {
     "name": "#%% md\n"
    }
   },
   "source": [
    "### Introduction\n",
    "\n",
    "This demonstration uses 2011 Census data, available [here](https://www.ons.gov.uk/census/2011census/2011censusdata/2011censusdatacatalogue).\n",
    "\n",
    "I have chosen several different sub-datasets to demonstrate relevant suitable visualisations.\n",
    "\n",
    "1. [Population and household estimates](#section1)\n",
    "\n",
    "    1.1 [Gender ratio](#section1_1)\n",
    "\n",
    "    1.2 [Gender by region](#section1_2)\n",
    "\n",
    "    1.3 [Population by outward postcode using choropleth map](#section1_3)\n",
    "\n",
    "    1.4 [Population by postcode parent area using choropleth map](#section1_4)\n",
    "\n",
    "    1.5 [Male/Female ratio by postcode parent area using choropleth map](#section1_5)"
   ]
  },
  {
   "cell_type": "markdown",
   "source": [
    "### Preparation"
   ],
   "metadata": {
    "collapsed": false,
    "pycharm": {
     "name": "#%% md\n"
    }
   }
  },
  {
   "cell_type": "code",
   "execution_count": null,
   "outputs": [],
   "source": [
    "# Install required packages\n",
    "%pip install pandas plotly geojson shapely"
   ],
   "metadata": {
    "collapsed": false,
    "pycharm": {
     "name": "#%%\n"
    }
   }
  },
  {
   "cell_type": "code",
   "execution_count": null,
   "outputs": [],
   "source": [
    "# Import required packages\n",
    "import pandas as pd\n",
    "import json\n",
    "from pathlib import Path\n",
    "import plotly.express as px\n",
    "import plotly.graph_objects as go\n",
    "import re\n",
    "import shapely.geometry\n",
    "from shapely.ops import unary_union\n",
    "import geojson\n",
    "\n",
    "# Set default pandas plotting backend to Plotly\n",
    "pd.options.plotting.backend = \"plotly\""
   ],
   "metadata": {
    "collapsed": false,
    "pycharm": {
     "name": "#%%\n"
    }
   }
  },
  {
   "cell_type": "markdown",
   "source": [
    "<a id='section1'></a>\n",
    "### 1. Population and household estimates"
   ],
   "metadata": {
    "collapsed": false,
    "pycharm": {
     "name": "#%% md\n"
    }
   }
  },
  {
   "cell_type": "code",
   "execution_count": null,
   "outputs": [],
   "source": [
    "# Load data\n",
    "df1 = pd.read_csv(\"../data/census2011/population_household.csv\")\n",
    "\n",
    "# Split postcode into outward and inward, e.g. LE3 9QP => LE3 and 9QP\n",
    "df1[\"postcode_out\"] = df1[\"Postcode\"].apply(lambda x: x[0:4].strip())\n",
    "df1[\"postcode_in\"] = df1[\"Postcode\"].apply(lambda x: x[4:].strip())\n",
    "\n",
    "# Keep only non-numeric part in outward as the parent region\n",
    "df1[\"postcode_region\"] = df1[\"postcode_out\"].apply(lambda x: re.split(\"\\d+\", x)[0])\n",
    "\n",
    "# Remove column [Postcode] to save memory\n",
    "df1 = df1.drop([\"Postcode\"], axis=1)"
   ],
   "metadata": {
    "collapsed": false,
    "pycharm": {
     "name": "#%%\n"
    }
   }
  },
  {
   "cell_type": "markdown",
   "source": [
    "<a id='section1_1'></a>\n",
    "#### 1.1 Gender ratio"
   ],
   "metadata": {
    "collapsed": false,
    "pycharm": {
     "name": "#%% md\n"
    }
   }
  },
  {
   "cell_type": "code",
   "execution_count": null,
   "outputs": [],
   "source": [
    "# Count total number of males and females\n",
    "df_gender = pd.DataFrame({\"Gender\": [\"Male\", \"Female\"], \"Count\": [df1[\"Males\"].sum(), df1[\"Females\"].sum()]})\n",
    "\n",
    "# Generate pie chart\n",
    "gender_pie = px.pie(df_gender, values=\"Count\", names=\"Gender\", title=\"National gender ratio (England and Wales)\")\n",
    "gender_pie.show()\n",
    "\n",
    "# Remove variables to save memory\n",
    "del df_gender, gender_pie"
   ],
   "metadata": {
    "collapsed": false,
    "pycharm": {
     "name": "#%%\n"
    }
   }
  },
  {
   "cell_type": "markdown",
   "source": [
    "<a id='section1_2'></a>\n",
    "#### 1.2 Gender by region"
   ],
   "metadata": {
    "collapsed": false
   }
  },
  {
   "cell_type": "code",
   "execution_count": null,
   "outputs": [],
   "source": [
    "# Sum up all numbers within same postcode region, descending order by column [Total]\n",
    "df_temp = df1.groupby([\"postcode_region\"]).sum().sort_values(by=['Total'], ascending=False).reset_index()\n",
    "\n",
    "# Generate grouped bar chart\n",
    "bar_x = [\"Total\", \"Males\", \"Females\"]\n",
    "bar_data = []\n",
    "for index, row in df_temp.head(10).iterrows():\n",
    "    bar_data.append(go.Bar(name=row[\"postcode_region\"], x=bar_x, y=row[bar_x], text=row[bar_x], textposition=\"auto\"))\n",
    "fig_temp = go.Figure(data=bar_data)\n",
    "fig_temp.update_layout(barmode='group', title=\"Population by regions (Top 10)\")\n",
    "fig_temp.show()\n",
    "\n",
    "# Remove variables to save memory\n",
    "del df_temp, bar_x, bar_data, fig_temp"
   ],
   "metadata": {
    "collapsed": false,
    "pycharm": {
     "name": "#%%\n"
    }
   }
  },
  {
   "cell_type": "markdown",
   "source": [
    "<a id='section1_3'></a>\n",
    "#### 1.3 Population by outward postcode using choropleth map\n",
    "Concat individual postcode geojson mapping into single variable `geojson_uk`."
   ],
   "metadata": {
    "collapsed": false,
    "pycharm": {
     "name": "#%% md\n"
    }
   }
  },
  {
   "cell_type": "code",
   "execution_count": null,
   "outputs": [],
   "source": [
    "# Create parent geojson collection object\n",
    "geojson_uk_granulated = dict(type=\"FeatureCollection\", features=list())\n",
    "# Load all geojson files\n",
    "path_geojson = Path(\"../data/geojson\")\n",
    "for f_geojson in list(path_geojson.glob(\"*.geojson\")):\n",
    "    with open(f_geojson) as f:\n",
    "        geojson_data = json.load(f)\n",
    "        for feature in geojson_data[\"features\"]:\n",
    "            # Add feature id using properties.name, which is the outward postcode\n",
    "            feature[\"id\"] = feature[\"properties\"][\"name\"]\n",
    "            # Add feature to parent geojson collection\n",
    "            geojson_uk_granulated[\"features\"].append(feature)"
   ],
   "metadata": {
    "collapsed": false,
    "pycharm": {
     "name": "#%%\n"
    }
   }
  },
  {
   "cell_type": "markdown",
   "source": [
    "Plot population with postcode area. Please note that as the opensource geographical data I used in this demonstration comes from Wikipedia, it does not cover all England regions. This leads to white areas on the map."
   ],
   "metadata": {
    "collapsed": false,
    "pycharm": {
     "name": "#%% md\n"
    }
   }
  },
  {
   "cell_type": "code",
   "execution_count": null,
   "outputs": [],
   "source": [
    "# Sum up all numbers within same postcode outward area\n",
    "df_temp = df1.groupby([\"postcode_out\"]).sum().reset_index()\n",
    "\n",
    "# Get max population number among areas\n",
    "p_max = df_temp[\"Total\"].max()\n",
    "\n",
    "# Plot figure\n",
    "fig = px.choropleth_mapbox(df1.groupby([\"postcode_out\"]).sum().reset_index(), geojson=geojson_uk_granulated,\n",
    "                           locations='postcode_out', color='Total',\n",
    "                           color_continuous_scale=\"jet\",\n",
    "                           range_color=(0, p_max),\n",
    "                           mapbox_style=\"carto-positron\",\n",
    "                           zoom=4.5, center={\"lat\": 52.5, \"lon\": -1.6},\n",
    "                           opacity=0.5\n",
    "                           )\n",
    "fig.update_layout(margin={\"r\": 0, \"t\": 0, \"l\": 0, \"b\": 0})\n",
    "fig.show()\n",
    "\n",
    "# Remove variables to save memory\n",
    "del df_temp, p_max, fig"
   ],
   "metadata": {
    "collapsed": false,
    "pycharm": {
     "name": "#%%\n"
    }
   }
  },
  {
   "cell_type": "markdown",
   "source": [
    "<a id='section1_4'></a>\n",
    "#### 1.4 Population by postcode parent area using choropleth map\n",
    "In the above plot, regions are probably too granulated, so you would not be able to see an obvious trend. Let's merge them into parent regions."
   ],
   "metadata": {
    "collapsed": false,
    "pycharm": {
     "name": "#%% md\n"
    }
   }
  },
  {
   "cell_type": "code",
   "execution_count": null,
   "outputs": [],
   "source": [
    "# Create parent geojson collection object\n",
    "geojson_uk_regional = dict(type=\"FeatureCollection\", features=list())\n",
    "# Load all geojson files\n",
    "path_geojson = Path(\"../data/geojson\")\n",
    "for f_geojson in list(path_geojson.glob(\"*.geojson\")):\n",
    "    with open(f_geojson) as f:\n",
    "        geojson_data = json.load(f)\n",
    "        # Merge granulated geometry areas into parent region\n",
    "        merged = unary_union(\n",
    "            list(\n",
    "                map(\n",
    "                    (lambda x: shapely.geometry.asShape(x[\"geometry\"])),\n",
    "                    geojson_data[\"features\"])\n",
    "            )\n",
    "        )\n",
    "        # Create new geojson feature from merged geometry\n",
    "        geojson_merged = geojson.Feature(geometry=merged,\n",
    "                                         properties={\"name\": f_geojson.stem},\n",
    "                                         id=f_geojson.stem)\n",
    "        # Add feature to parent geojson collection\n",
    "        geojson_uk_regional[\"features\"].append(geojson_merged)"
   ],
   "metadata": {
    "collapsed": false,
    "pycharm": {
     "name": "#%%\n"
    }
   }
  },
  {
   "cell_type": "code",
   "execution_count": null,
   "outputs": [],
   "source": [
    "# Sum up all numbers within same postcode region\n",
    "df_temp = df1.groupby([\"postcode_region\"]).sum().reset_index()\n",
    "\n",
    "# Get max population number among regions\n",
    "p_max = df_temp[\"Total\"].max()\n",
    "\n",
    "# Plot figure\n",
    "fig = px.choropleth_mapbox(df_temp,\n",
    "                           geojson=geojson_uk_regional,\n",
    "                           locations='postcode_region',\n",
    "                           color='Total',\n",
    "                           color_continuous_scale=\"jet\",\n",
    "                           range_color=(0, p_max),\n",
    "                           mapbox_style=\"carto-positron\",\n",
    "                           zoom=4.5, center={\"lat\": 52.5, \"lon\": -1.6},\n",
    "                           opacity=0.5\n",
    "                           )\n",
    "fig.update_layout(margin={\"r\": 0, \"t\": 0, \"l\": 0, \"b\": 0})\n",
    "fig.show()\n",
    "\n",
    "# Remove variables to save memory\n",
    "del df_temp, p_max, fig"
   ],
   "metadata": {
    "collapsed": false,
    "pycharm": {
     "name": "#%%\n"
    }
   }
  },
  {
   "cell_type": "markdown",
   "source": [
    "<a id='section1_5'></a>\n",
    "#### 1.5 Male/Female ratio by postcode parent area using choropleth map"
   ],
   "metadata": {
    "collapsed": false,
    "pycharm": {
     "name": "#%% md\n"
    }
   }
  },
  {
   "cell_type": "code",
   "execution_count": null,
   "outputs": [],
   "source": [
    "# Sum up all numbers within same postcode region\n",
    "df_temp = df1.groupby([\"postcode_region\"]).sum().reset_index()\n",
    "\n",
    "# Calculate M/F ratio and save into column [mf_ratio]\n",
    "df_temp[\"mf_ratio\"] = df_temp[\"Males\"] / df_temp[\"Females\"]\n",
    "\n",
    "# Get range for M/F ratio\n",
    "r_min, r_max = df_temp[\"mf_ratio\"].min(), df_temp[\"mf_ratio\"].max()\n",
    "\n",
    "# Plot figure\n",
    "fig = px.choropleth_mapbox(df_temp,\n",
    "                           geojson=geojson_uk_regional,\n",
    "                           locations='postcode_region',\n",
    "                           color='mf_ratio',\n",
    "                           color_continuous_scale=\"jet\",\n",
    "                           range_color=(r_min, r_max),\n",
    "                           mapbox_style=\"carto-positron\",\n",
    "                           zoom=4.5, center={\"lat\": 52.5, \"lon\": -1.6},\n",
    "                           opacity=0.5\n",
    "                           )\n",
    "fig.update_layout(margin={\"r\": 0, \"t\": 0, \"l\": 0, \"b\": 0})\n",
    "fig.show()\n",
    "\n",
    "# Remove variables to save memory\n",
    "del df_temp, r_min, r_max, fig"
   ],
   "metadata": {
    "collapsed": false,
    "pycharm": {
     "name": "#%%\n"
    }
   }
  },
  {
   "cell_type": "code",
   "execution_count": null,
   "outputs": [],
   "source": [
    "# Remove dataframe used for section 1\n",
    "del df1"
   ],
   "metadata": {
    "collapsed": false,
    "pycharm": {
     "name": "#%%\n"
    }
   }
  },
  {
   "cell_type": "markdown",
   "source": [
    "<a id='section2'></a>\n",
    "### 2. Age structure"
   ],
   "metadata": {
    "collapsed": false,
    "pycharm": {
     "name": "#%% md\n"
    }
   }
  },
  {
   "cell_type": "code",
   "execution_count": null,
   "outputs": [],
   "source": [
    "df2 = pd.read_excel(\"../data/census2011/age_structure.xls\", sheet_name=\"KS102EW_Numbers\", skiprows=10, skipfooter=1)\n",
    "df2 = df2.rename(columns={df2.columns[1]:\"nation\", df2.columns[2]: \"region\", df2.columns[3]: \"area\"}).dropna(subset=[\"Area code\"]).reset_index(drop=True)\n",
    "df2"
   ],
   "metadata": {
    "collapsed": false,
    "pycharm": {
     "name": "#%%\n"
    }
   }
  }
 ],
 "metadata": {
  "kernelspec": {
   "display_name": "Python 3",
   "language": "python",
   "name": "python3"
  },
  "language_info": {
   "codemirror_mode": {
    "name": "ipython",
    "version": 2
   },
   "file_extension": ".py",
   "mimetype": "text/x-python",
   "name": "python",
   "nbconvert_exporter": "python",
   "pygments_lexer": "ipython2",
   "version": "2.7.6"
  }
 },
 "nbformat": 4,
 "nbformat_minor": 0
}